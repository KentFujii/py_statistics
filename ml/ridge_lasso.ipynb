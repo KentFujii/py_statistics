{
 "cells": [
  {
   "cell_type": "code",
   "execution_count": 1,
   "metadata": {},
   "outputs": [],
   "source": [
    "# Lasso回帰はL1正則化回帰とも呼ばれる\n",
    "# Ridge回帰はL2正則化回帰とも呼ばれる\n",
    "\n",
    "# Lasso回帰では、尖っている部分（微分不可能な点で、特定の回帰係数の大きさが0となっている）が解になりやすくなるため、いくつかの係数が0となる解が推定されやすい。\n",
    "# Ridge回帰では、制約条件が円状であるため、回帰係数が全体的に小さくなる領域が解になりやすい\n",
    "\n",
    "# Lasso回帰は不要なパラメータを削りたい（次元・特徴量削減）という時によく使われる\n",
    "# Ridge回帰は過学習を抑えて汎化された滑らかなモデルを得やすい事がしらてている\n",
    "\n",
    "import numpy as np\n",
    "import pandas as pd\n",
    "import scipy as sp\n",
    "from scipy import stats\n",
    "from matplotlib import pyplot as plt\n",
    "import seaborn as sns\n",
    "sns.set()\n",
    "import statsmodels.formula.api as smf\n",
    "import statsmodels.api as sm\n",
    "from sklearn import linear_model\n",
    "%precision 3\n",
    "%matplotlib inline"
   ]
  },
  {
   "cell_type": "code",
   "execution_count": null,
   "metadata": {},
   "outputs": [],
   "source": []
  }
 ],
 "metadata": {
  "kernelspec": {
   "display_name": "Python 3",
   "language": "python",
   "name": "python3"
  },
  "language_info": {
   "codemirror_mode": {
    "name": "ipython",
    "version": 3
   },
   "file_extension": ".py",
   "mimetype": "text/x-python",
   "name": "python",
   "nbconvert_exporter": "python",
   "pygments_lexer": "ipython3",
   "version": "3.7.1"
  }
 },
 "nbformat": 4,
 "nbformat_minor": 2
}
