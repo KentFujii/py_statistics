{
 "cells": [
  {
   "cell_type": "code",
   "execution_count": 1,
   "metadata": {},
   "outputs": [],
   "source": [
    "# Lasso回帰はL1正則化回帰とも呼ばれる\n",
    "# Ridge回帰はL2正則化回帰とも呼ばれる\n",
    "\n",
    "# Lasso回帰では、尖っている部分（微分不可能な点で、特定の回帰係数の大きさが0となっている）が解になりやすくなるため、いくつかの係数が0となる解が推定されやすい。\n",
    "# Ridge回帰では、制約条件が円状であるため、回帰係数が全体的に小さくなる領域が解になりやすい\n",
    "\n",
    "# Lasso回帰は不要なパラメータを削りたい（次元・特徴量削減）という時によく使われる\n",
    "# Ridge回帰は過学習を抑えて汎化された滑らかなモデルを得やすい事がしらてている\n",
    "\n",
    "import numpy as np\n",
    "import pandas as pd\n",
    "import scipy as sp\n",
    "from scipy import stats\n",
    "from matplotlib import pyplot as plt\n",
    "import seaborn as sns\n",
    "sns.set()\n",
    "import statsmodels.formula.api as smf\n",
    "import statsmodels.api as sm\n",
    "from sklearn import linear_model\n",
    "%precision 3\n",
    "%matplotlib inline"
   ]
  },
  {
   "cell_type": "code",
   "execution_count": 2,
   "metadata": {},
   "outputs": [
    {
     "data": {
      "text/html": [
       "<div>\n",
       "<style scoped>\n",
       "    .dataframe tbody tr th:only-of-type {\n",
       "        vertical-align: middle;\n",
       "    }\n",
       "\n",
       "    .dataframe tbody tr th {\n",
       "        vertical-align: top;\n",
       "    }\n",
       "\n",
       "    .dataframe thead th {\n",
       "        text-align: right;\n",
       "    }\n",
       "</style>\n",
       "<table border=\"1\" class=\"dataframe\">\n",
       "  <thead>\n",
       "    <tr style=\"text-align: right;\">\n",
       "      <th></th>\n",
       "      <th>X_1</th>\n",
       "      <th>X_2</th>\n",
       "      <th>X_3</th>\n",
       "      <th>X_4</th>\n",
       "      <th>X_5</th>\n",
       "      <th>X_6</th>\n",
       "      <th>X_7</th>\n",
       "      <th>X_8</th>\n",
       "      <th>X_9</th>\n",
       "      <th>X_10</th>\n",
       "      <th>...</th>\n",
       "      <th>X_91</th>\n",
       "      <th>X_92</th>\n",
       "      <th>X_93</th>\n",
       "      <th>X_94</th>\n",
       "      <th>X_95</th>\n",
       "      <th>X_96</th>\n",
       "      <th>X_97</th>\n",
       "      <th>X_98</th>\n",
       "      <th>X_99</th>\n",
       "      <th>X_100</th>\n",
       "    </tr>\n",
       "  </thead>\n",
       "  <tbody>\n",
       "    <tr>\n",
       "      <th>0</th>\n",
       "      <td>1.0000</td>\n",
       "      <td>0.5000</td>\n",
       "      <td>0.3333</td>\n",
       "      <td>0.2500</td>\n",
       "      <td>0.2000</td>\n",
       "      <td>0.1667</td>\n",
       "      <td>0.1429</td>\n",
       "      <td>0.1250</td>\n",
       "      <td>0.1111</td>\n",
       "      <td>0.1000</td>\n",
       "      <td>...</td>\n",
       "      <td>0.0110</td>\n",
       "      <td>0.0109</td>\n",
       "      <td>0.0108</td>\n",
       "      <td>0.0106</td>\n",
       "      <td>0.0105</td>\n",
       "      <td>0.0104</td>\n",
       "      <td>0.0103</td>\n",
       "      <td>0.0102</td>\n",
       "      <td>0.0101</td>\n",
       "      <td>0.0100</td>\n",
       "    </tr>\n",
       "    <tr>\n",
       "      <th>1</th>\n",
       "      <td>0.5000</td>\n",
       "      <td>0.3333</td>\n",
       "      <td>0.2500</td>\n",
       "      <td>0.2000</td>\n",
       "      <td>0.1667</td>\n",
       "      <td>0.1429</td>\n",
       "      <td>0.1250</td>\n",
       "      <td>0.1111</td>\n",
       "      <td>0.1000</td>\n",
       "      <td>0.0909</td>\n",
       "      <td>...</td>\n",
       "      <td>0.0109</td>\n",
       "      <td>0.0108</td>\n",
       "      <td>0.0106</td>\n",
       "      <td>0.0105</td>\n",
       "      <td>0.0104</td>\n",
       "      <td>0.0103</td>\n",
       "      <td>0.0102</td>\n",
       "      <td>0.0101</td>\n",
       "      <td>0.0100</td>\n",
       "      <td>0.0099</td>\n",
       "    </tr>\n",
       "    <tr>\n",
       "      <th>2</th>\n",
       "      <td>0.3333</td>\n",
       "      <td>0.2500</td>\n",
       "      <td>0.2000</td>\n",
       "      <td>0.1667</td>\n",
       "      <td>0.1429</td>\n",
       "      <td>0.1250</td>\n",
       "      <td>0.1111</td>\n",
       "      <td>0.1000</td>\n",
       "      <td>0.0909</td>\n",
       "      <td>0.0833</td>\n",
       "      <td>...</td>\n",
       "      <td>0.0108</td>\n",
       "      <td>0.0106</td>\n",
       "      <td>0.0105</td>\n",
       "      <td>0.0104</td>\n",
       "      <td>0.0103</td>\n",
       "      <td>0.0102</td>\n",
       "      <td>0.0101</td>\n",
       "      <td>0.0100</td>\n",
       "      <td>0.0099</td>\n",
       "      <td>0.0098</td>\n",
       "    </tr>\n",
       "  </tbody>\n",
       "</table>\n",
       "<p>3 rows × 100 columns</p>\n",
       "</div>"
      ],
      "text/plain": [
       "      X_1     X_2     X_3     X_4     X_5     X_6     X_7     X_8     X_9  \\\n",
       "0  1.0000  0.5000  0.3333  0.2500  0.2000  0.1667  0.1429  0.1250  0.1111   \n",
       "1  0.5000  0.3333  0.2500  0.2000  0.1667  0.1429  0.1250  0.1111  0.1000   \n",
       "2  0.3333  0.2500  0.2000  0.1667  0.1429  0.1250  0.1111  0.1000  0.0909   \n",
       "\n",
       "     X_10   ...      X_91    X_92    X_93    X_94    X_95    X_96    X_97  \\\n",
       "0  0.1000   ...    0.0110  0.0109  0.0108  0.0106  0.0105  0.0104  0.0103   \n",
       "1  0.0909   ...    0.0109  0.0108  0.0106  0.0105  0.0104  0.0103  0.0102   \n",
       "2  0.0833   ...    0.0108  0.0106  0.0105  0.0104  0.0103  0.0102  0.0101   \n",
       "\n",
       "     X_98    X_99   X_100  \n",
       "0  0.0102  0.0101  0.0100  \n",
       "1  0.0101  0.0100  0.0099  \n",
       "2  0.0100  0.0099  0.0098  \n",
       "\n",
       "[3 rows x 100 columns]"
      ]
     },
     "execution_count": 2,
     "metadata": {},
     "output_type": "execute_result"
    }
   ],
   "source": [
    "X = pd.read_csv('large-data.csv')\n",
    "X.head(3)"
   ]
  },
  {
   "cell_type": "code",
   "execution_count": 3,
   "metadata": {},
   "outputs": [
    {
     "data": {
      "text/plain": [
       "0.037272"
      ]
     },
     "execution_count": 3,
     "metadata": {},
     "output_type": "execute_result"
    }
   ],
   "source": [
    "sp.mean(X.X_1)"
   ]
  },
  {
   "cell_type": "code",
   "execution_count": 4,
   "metadata": {},
   "outputs": [
    {
     "data": {
      "text/plain": [
       "X_1    0.037272\n",
       "X_2    0.030649\n",
       "X_3    0.027360\n",
       "dtype: float64"
      ]
     },
     "execution_count": 4,
     "metadata": {},
     "output_type": "execute_result"
    }
   ],
   "source": [
    "sp.mean(X, axis=0).head(3)"
   ]
  },
  {
   "cell_type": "code",
   "execution_count": 5,
   "metadata": {},
   "outputs": [],
   "source": [
    "X -= sp.mean(X, axis=0)\n",
    "X /= sp.std(X, ddof=1, axis=0)"
   ]
  },
  {
   "cell_type": "code",
   "execution_count": 6,
   "metadata": {},
   "outputs": [
    {
     "data": {
      "text/plain": [
       "X_1    0.0\n",
       "X_2   -0.0\n",
       "X_3   -0.0\n",
       "dtype: float64"
      ]
     },
     "execution_count": 6,
     "metadata": {},
     "output_type": "execute_result"
    }
   ],
   "source": [
    "sp.mean(X, axis=0).head(3).round(3)"
   ]
  },
  {
   "cell_type": "code",
   "execution_count": 7,
   "metadata": {},
   "outputs": [
    {
     "data": {
      "text/plain": [
       "X_1    1.0\n",
       "X_2    1.0\n",
       "X_3    1.0\n",
       "dtype: float64"
      ]
     },
     "execution_count": 7,
     "metadata": {},
     "output_type": "execute_result"
    }
   ],
   "source": [
    "sp.std(X, ddof=1, axis=0).head(3)"
   ]
  },
  {
   "cell_type": "code",
   "execution_count": 8,
   "metadata": {},
   "outputs": [
    {
     "data": {
      "text/plain": [
       "<seaborn.axisgrid.JointGrid at 0x7f3bd4c19240>"
      ]
     },
     "execution_count": 8,
     "metadata": {},
     "output_type": "execute_result"
    },
    {
     "data": {
      "image/png": "[encoded data removed]",
      "text/plain": [
       "<Figure size 432x432 with 3 Axes>"
      ]
     },
     "metadata": {
      "needs_background": "light"
     },
     "output_type": "display_data"
    }
   ],
   "source": [
    "np.random.seed(1)\n",
    "noise = sp.stats.norm.rvs(\n",
    "    loc=0,\n",
    "    scale=1,\n",
    "    size=X.shape[0]\n",
    ")\n",
    "y = X.X_1 * 5 + noise\n",
    "large_data = pd.concat(\n",
    "    [pd.DataFrame({'y': y}), X],\n",
    "    axis=1\n",
    ")\n",
    "sns.jointplot(\n",
    "    y='y',\n",
    "    x='X_1',\n",
    "    data=large_data,\n",
    "    color='black'\n",
    ")"
   ]
  },
  {
   "cell_type": "code",
   "execution_count": 9,
   "metadata": {},
   "outputs": [
    {
     "data": {
      "text/plain": [
       "X_1     14.755018\n",
       "X_2    -87.462851\n",
       "X_3    211.743136\n",
       "dtype: float64"
      ]
     },
     "execution_count": 9,
     "metadata": {},
     "output_type": "execute_result"
    }
   ],
   "source": [
    "lm_statsmodels = sm.OLS(endog=y, exog=X).fit()\n",
    "lm_statsmodels.params.head(3)"
   ]
  },
  {
   "cell_type": "code",
   "execution_count": 10,
   "metadata": {},
   "outputs": [
    {
     "data": {
      "text/plain": [
       "array([ 1.476e+01, -8.746e+01,  2.117e+02, -9.415e+01, -6.817e+01,\n",
       "       -9.284e+01,  1.761e+00,  8.170e+01,  6.680e+01,  2.788e+01,\n",
       "       -3.288e+01,  6.818e+01, -1.699e+01,  2.208e+01, -4.855e+01,\n",
       "       -3.390e+01, -4.536e+01,  9.728e+00,  2.481e+01,  1.858e+00,\n",
       "        1.599e+00, -2.838e+01,  6.477e+00, -5.980e+01,  3.532e+01,\n",
       "       -1.302e+01,  4.108e+01, -4.303e+01,  5.247e+01,  1.920e+00,\n",
       "        3.342e+01,  8.490e+00,  8.329e+00, -2.293e+01, -3.577e+01,\n",
       "       -1.337e+01,  3.178e+01, -2.018e+01, -2.654e+01, -3.523e+01,\n",
       "        1.927e+01,  4.823e+01, -1.655e+00,  5.749e-01, -1.893e+01,\n",
       "        7.370e-01,  1.047e+01, -7.732e+00, -1.854e+00, -2.559e-01,\n",
       "       -5.045e+00, -4.227e+00,  2.523e+01,  1.616e+01, -1.310e+01,\n",
       "        6.455e+00, -1.332e+01, -2.291e+01, -1.202e+01,  7.745e+00,\n",
       "        1.755e+01,  5.997e+00,  4.648e+00,  4.120e+00, -1.825e+00,\n",
       "        5.366e+00,  4.546e+00, -2.598e+00, -4.091e+00,  7.496e+00,\n",
       "        3.100e+01,  1.530e+01, -5.323e+00, -1.509e+01, -3.801e+00,\n",
       "       -6.584e+00, -7.203e-02, -4.237e+00,  3.355e+00,  3.176e+00,\n",
       "        6.025e+00, -2.422e-01,  2.628e+00, -2.131e-02, -8.349e+00,\n",
       "       -5.091e+00, -5.060e+00, -4.779e+00,  7.645e+00,  1.797e+00,\n",
       "        4.276e+00,  1.418e-01,  2.800e+00,  3.146e+00, -5.188e+00,\n",
       "       -2.479e+00, -1.306e+01, -5.545e+00, -2.923e+00,  2.945e+00])"
      ]
     },
     "execution_count": 10,
     "metadata": {},
     "output_type": "execute_result"
    }
   ],
   "source": [
    "lm_sklearn = linear_model.LinearRegression()\n",
    "lm_sklearn.fit(X, y)\n",
    "lm_sklearn.coef_"
   ]
  },
  {
   "cell_type": "code",
   "execution_count": 11,
   "metadata": {},
   "outputs": [
    {
     "data": {
      "text/plain": [
       "array([-2.   , -1.945, -1.89 , -1.835, -1.78 , -1.724, -1.669, -1.614,\n",
       "       -1.559, -1.504, -1.449, -1.394, -1.339, -1.284, -1.229, -1.173,\n",
       "       -1.118, -1.063, -1.008, -0.953, -0.898, -0.843, -0.788, -0.733,\n",
       "       -0.678, -0.622, -0.567, -0.512, -0.457, -0.402, -0.347, -0.292,\n",
       "       -0.237, -0.182, -0.127, -0.071, -0.016,  0.039,  0.094,  0.149,\n",
       "        0.204,  0.259,  0.314,  0.369,  0.424,  0.48 ,  0.535,  0.59 ,\n",
       "        0.645,  0.7  ])"
      ]
     },
     "execution_count": 11,
     "metadata": {},
     "output_type": "execute_result"
    }
   ],
   "source": [
    "n_alphas = 50\n",
    "ridge_alphas = np.logspace(-2, 0.7, n_alphas)\n",
    "sp.log10(ridge_alphas)"
   ]
  },
  {
   "cell_type": "code",
   "execution_count": 12,
   "metadata": {},
   "outputs": [
    {
     "data": {
      "text/plain": [
       "(50, 100)"
      ]
     },
     "execution_count": 12,
     "metadata": {},
     "output_type": "execute_result"
    }
   ],
   "source": [
    "ridge_coefs = []\n",
    "for a in ridge_alphas:\n",
    "    ridge = linear_model.Ridge(alpha=a, fit_intercept=False)\n",
    "    ridge.fit(X, y)\n",
    "    ridge_coefs.append(ridge.coef_)\n",
    "ridge_coefs = np.array(ridge_coefs)\n",
    "ridge_coefs.shape"
   ]
  },
  {
   "cell_type": "code",
   "execution_count": 13,
   "metadata": {},
   "outputs": [
    {
     "data": {
      "text/plain": [
       "Text(0, 0.5, 'Coefficients')"
      ]
     },
     "execution_count": 13,
     "metadata": {},
     "output_type": "execute_result"
    },
    {
     "data": {
      "image/png": "[encoded data removed]",
      "text/plain": [
       "<Figure size 432x288 with 1 Axes>"
      ]
     },
     "metadata": {
      "needs_background": "light"
     },
     "output_type": "display_data"
    }
   ],
   "source": [
    "log_alphas = -sp.log10(ridge_alphas)\n",
    "plt.plot(log_alphas, ridge_coefs, color='black')\n",
    "plt.text(\n",
    "    max(log_alphas) + 0.1,\n",
    "    np.array(ridge_coefs)[0, 0],\n",
    "    'X_1'\n",
    ")\n",
    "plt.xlim([min(log_alphas) - 0.1, max(log_alphas) + 0.3])\n",
    "plt.title('Ridge')\n",
    "plt.xlabel('- log10(alpha)')\n",
    "plt.ylabel('Coefficients')"
   ]
  },
  {
   "cell_type": "code",
   "execution_count": 14,
   "metadata": {},
   "outputs": [
    {
     "data": {
      "text/plain": [
       "0.23673469387755094"
      ]
     },
     "execution_count": 14,
     "metadata": {},
     "output_type": "execute_result"
    }
   ],
   "source": [
    "ridge_best = linear_model.RidgeCV(\n",
    "    cv=10,\n",
    "    alphas=ridge_alphas,\n",
    "    fit_intercept=False\n",
    ")\n",
    "ridge_best.fit(X, y)\n",
    "-sp.log10(ridge_best.alpha_)"
   ]
  },
  {
   "cell_type": "code",
   "execution_count": 15,
   "metadata": {},
   "outputs": [
    {
     "data": {
      "text/plain": [
       "0.5797827717179138"
      ]
     },
     "execution_count": 15,
     "metadata": {},
     "output_type": "execute_result"
    }
   ],
   "source": [
    "ridge_best.alpha_"
   ]
  },
  {
   "cell_type": "code",
   "execution_count": 16,
   "metadata": {},
   "outputs": [
    {
     "data": {
      "text/plain": [
       "array([ 4.463,  1.288,  0.293, -0.091, -0.201, -0.233, -0.215, -0.206,\n",
       "       -0.145, -0.135, -0.155, -0.046, -0.097, -0.017, -0.11 , -0.012,\n",
       "       -0.094,  0.013, -0.018, -0.031,  0.025, -0.029,  0.043, -0.087,\n",
       "        0.127,  0.021,  0.055, -0.077,  0.141, -0.007,  0.099,  0.116,\n",
       "       -0.044,  0.037, -0.034,  0.015,  0.123, -0.171, -0.007, -0.182,\n",
       "        0.09 ,  0.222,  0.035, -0.032, -0.008,  0.025,  0.338, -0.193,\n",
       "       -0.108,  0.212, -0.128, -0.246,  0.249,  0.128, -0.155,  0.27 ,\n",
       "        0.03 , -0.165, -0.178,  0.158, -0.011,  0.013,  0.194,  0.134,\n",
       "       -0.156, -0.018,  0.256,  0.223, -0.185,  0.006,  0.535,  0.181,\n",
       "       -0.348, -0.123,  0.226, -0.043, -0.115, -0.053,  0.209,  0.189,\n",
       "       -0.042, -0.205, -0.099,  0.059, -0.224,  0.15 , -0.039, -0.113,\n",
       "        0.21 ,  0.012,  0.129, -0.032, -0.022, -0.229, -0.198,  0.245,\n",
       "       -0.305, -0.396, -0.163,  0.164])"
      ]
     },
     "execution_count": 16,
     "metadata": {},
     "output_type": "execute_result"
    }
   ],
   "source": [
    "ridge_best.coef_"
   ]
  },
  {
   "cell_type": "code",
   "execution_count": 17,
   "metadata": {},
   "outputs": [],
   "source": [
    "lasso_alphas, lasso_coefs, _ = linear_model.lasso_path(\n",
    "    X,\n",
    "    y,\n",
    "    fit_intercept=False\n",
    ")"
   ]
  },
  {
   "cell_type": "code",
   "execution_count": 18,
   "metadata": {},
   "outputs": [
    {
     "data": {
      "text/plain": [
       "Text(0, 0.5, 'Coefficients')"
      ]
     },
     "execution_count": 18,
     "metadata": {},
     "output_type": "execute_result"
    },
    {
     "data": {
      "image/png": "[encoded data removed]",
      "text/plain": [
       "<Figure size 432x288 with 1 Axes>"
      ]
     },
     "metadata": {
      "needs_background": "light"
     },
     "output_type": "display_data"
    }
   ],
   "source": [
    "log_alphas = -sp.log10(lasso_alphas)\n",
    "plt.plot(log_alphas, lasso_coefs.T, color='black')\n",
    "plt.text(max(log_alphas) + 0.1, lasso_coefs[0, -1], 'X_1')\n",
    "plt.xlim([min(log_alphas) - 0.1, max(log_alphas) + 0.3])\n",
    "plt.title('Lasso')\n",
    "plt.xlabel('- log10(alpha)')\n",
    "plt.ylabel('Coefficients')"
   ]
  },
  {
   "cell_type": "code",
   "execution_count": 19,
   "metadata": {},
   "outputs": [
    {
     "data": {
      "text/plain": [
       "2.301043177767326"
      ]
     },
     "execution_count": 19,
     "metadata": {},
     "output_type": "execute_result"
    }
   ],
   "source": [
    "lasso_best = linear_model.LassoCV(\n",
    "    cv=10,\n",
    "    alphas=lasso_alphas,\n",
    "    fit_intercept=False\n",
    ")\n",
    "lasso_best.fit(X, y)\n",
    "-sp.log10(lasso_best.alpha_)"
   ]
  },
  {
   "cell_type": "code",
   "execution_count": 20,
   "metadata": {},
   "outputs": [
    {
     "data": {
      "text/plain": [
       "0.004999848237729944"
      ]
     },
     "execution_count": 20,
     "metadata": {},
     "output_type": "execute_result"
    }
   ],
   "source": [
    "lasso_best.alpha_"
   ]
  },
  {
   "cell_type": "code",
   "execution_count": 21,
   "metadata": {},
   "outputs": [
    {
     "data": {
      "text/plain": [
       "array([ 5.336e+00, -0.000e+00, -0.000e+00, -3.043e-01, -4.121e-02,\n",
       "       -0.000e+00, -0.000e+00, -0.000e+00, -0.000e+00, -0.000e+00,\n",
       "       -0.000e+00, -0.000e+00, -0.000e+00, -0.000e+00, -0.000e+00,\n",
       "       -0.000e+00, -0.000e+00, -0.000e+00, -0.000e+00, -0.000e+00,\n",
       "       -0.000e+00, -0.000e+00, -0.000e+00, -0.000e+00, -0.000e+00,\n",
       "       -0.000e+00, -0.000e+00, -0.000e+00,  0.000e+00, -0.000e+00,\n",
       "        0.000e+00,  0.000e+00, -0.000e+00,  0.000e+00,  0.000e+00,\n",
       "        0.000e+00,  0.000e+00, -0.000e+00,  0.000e+00,  0.000e+00,\n",
       "        0.000e+00,  0.000e+00,  0.000e+00,  0.000e+00,  0.000e+00,\n",
       "        0.000e+00,  0.000e+00,  0.000e+00,  0.000e+00,  0.000e+00,\n",
       "        0.000e+00,  0.000e+00,  0.000e+00,  0.000e+00,  0.000e+00,\n",
       "        0.000e+00,  0.000e+00,  0.000e+00,  0.000e+00,  0.000e+00,\n",
       "        0.000e+00,  0.000e+00,  0.000e+00,  0.000e+00,  0.000e+00,\n",
       "        0.000e+00,  0.000e+00,  0.000e+00,  0.000e+00,  0.000e+00,\n",
       "        8.425e-03,  0.000e+00,  0.000e+00,  0.000e+00,  0.000e+00,\n",
       "        0.000e+00,  0.000e+00,  0.000e+00,  0.000e+00,  0.000e+00,\n",
       "        0.000e+00,  0.000e+00,  0.000e+00,  0.000e+00,  0.000e+00,\n",
       "        0.000e+00,  0.000e+00,  0.000e+00,  0.000e+00,  0.000e+00,\n",
       "        0.000e+00,  0.000e+00,  0.000e+00,  0.000e+00,  0.000e+00,\n",
       "        7.192e-04,  0.000e+00,  0.000e+00,  0.000e+00,  0.000e+00])"
      ]
     },
     "execution_count": 21,
     "metadata": {},
     "output_type": "execute_result"
    }
   ],
   "source": [
    "lasso_best.coef_"
   ]
  }
 ],
 "metadata": {
  "kernelspec": {
   "display_name": "Python 3",
   "language": "python",
   "name": "python3"
  },
  "language_info": {
   "codemirror_mode": {
    "name": "ipython",
    "version": 3
   },
   "file_extension": ".py",
   "mimetype": "text/x-python",
   "name": "python",
   "nbconvert_exporter": "python",
   "pygments_lexer": "ipython3",
   "version": "3.7.1"
  }
 },
 "nbformat": 4,
 "nbformat_minor": 2
}
